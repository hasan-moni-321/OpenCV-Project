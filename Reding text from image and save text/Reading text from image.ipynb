{
 "cells": [
  {
   "cell_type": "code",
   "execution_count": 14,
   "metadata": {},
   "outputs": [],
   "source": [
    "import cv2 as cv\n",
    "import pytesseract\n"
   ]
  },
  {
   "cell_type": "code",
   "execution_count": null,
   "metadata": {},
   "outputs": [
    {
     "name": "stdout",
     "output_type": "stream",
     "text": [
      "Bangladesh officially the People's Republic of Bangladesh, is a country in South Asia. Itis the\n",
      "eighth-most populous country in the world, with a population exceeding 162 million people. In\n",
      "terms of land mass, Bangladesh ranks 92nd, spanning 148,460 square kilomeues, making it one of\n",
      "the most densely-populated countries in the world. Bangladesh shares land borders with India to the\n",
      "‘west, north, and east, Myanmar to the southeast, and the Bay of Bengal to the south. It is narrowly\n",
      "separated from Nepal and Bhutan by the Siliguri Corridor, and from China by Sikkim, in the north,\n",
      "respectively. Dhaka, the capital and largest city, is the nation's economic, political and cultural hub.\n",
      "Chittagong, the largest sea port, is the second-largest city.\n",
      "\n",
      " \n",
      "\f",
      "\n"
     ]
    }
   ],
   "source": [
    "img = cv.imread(\"/home/hasan/Downloads/about BD.png\")\n",
    "img_bgr = cv.cvtColor(img, cv.COLOR_BGR2RGB)\n",
    "\n",
    "# Reading text from image\n",
    "text = pytesseract.image_to_string(img_bgr)\n",
    "print(text)\n",
    "\n",
    "# showing image\n",
    "while True:\n",
    "    cv.imshow(\"original\", img)\n",
    "    \n",
    "    if cv.waitKey(0) & 0xFF==ord('q'):\n",
    "        break\n",
    "        "
   ]
  },
  {
   "cell_type": "code",
   "execution_count": null,
   "metadata": {},
   "outputs": [],
   "source": [
    "# Saving text in txt file.\n",
    "with open('file.txt', mode = 'w') as f:\n",
    "    f.write(text)\n",
    "    "
   ]
  },
  {
   "cell_type": "code",
   "execution_count": null,
   "metadata": {},
   "outputs": [],
   "source": []
  }
 ],
 "metadata": {
  "kernelspec": {
   "display_name": "Python 3",
   "language": "python",
   "name": "python3"
  },
  "language_info": {
   "codemirror_mode": {
    "name": "ipython",
    "version": 3
   },
   "file_extension": ".py",
   "mimetype": "text/x-python",
   "name": "python",
   "nbconvert_exporter": "python",
   "pygments_lexer": "ipython3",
   "version": "3.7.5"
  }
 },
 "nbformat": 4,
 "nbformat_minor": 2
}
