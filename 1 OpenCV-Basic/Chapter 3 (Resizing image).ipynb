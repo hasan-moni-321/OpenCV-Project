{
 "cells": [
  {
   "cell_type": "code",
   "execution_count": 36,
   "metadata": {},
   "outputs": [],
   "source": [
    "import cv2 as cv"
   ]
  },
  {
   "cell_type": "code",
   "execution_count": 40,
   "metadata": {},
   "outputs": [
    {
     "name": "stdout",
     "output_type": "stream",
     "text": [
      "Shape of the image is : (280, 515, 3)\n",
      "Shape of the image_resize is : (200, 200, 3)\n",
      "Shape of the image_increase_size is : (600, 600, 3)\n"
     ]
    },
    {
     "data": {
      "text/plain": [
       "-1"
      ]
     },
     "execution_count": 40,
     "metadata": {},
     "output_type": "execute_result"
    }
   ],
   "source": [
    "img = cv.imread('/home/hasan/Downloads/whale.jpg')\n",
    "print('Shape of the image is :',img.shape)\n",
    "\n",
    "#resizing image\n",
    "image_resize = cv.resize(img, (200, 200))\n",
    "print('Shape of the image_resize is :',image_resize.shape)\n",
    "\n",
    "#resizing image\n",
    "image_increase_size = cv.resize(img, (600, 600))\n",
    "print('Shape of the image_increase_size is :',image_increase_size.shape)\n",
    "\n",
    "cv.imshow('image original', img)\n",
    "cv.imshow('image resize', image_resize)\n",
    "cv.imshow('image increase_size', image_increase_size)\n",
    "cv.waitKey(10)"
   ]
  },
  {
   "cell_type": "code",
   "execution_count": null,
   "metadata": {},
   "outputs": [],
   "source": []
  }
 ],
 "metadata": {
  "kernelspec": {
   "display_name": "Python 3",
   "language": "python",
   "name": "python3"
  },
  "language_info": {
   "codemirror_mode": {
    "name": "ipython",
    "version": 3
   },
   "file_extension": ".py",
   "mimetype": "text/x-python",
   "name": "python",
   "nbconvert_exporter": "python",
   "pygments_lexer": "ipython3",
   "version": "3.7.5"
  }
 },
 "nbformat": 4,
 "nbformat_minor": 2
}
