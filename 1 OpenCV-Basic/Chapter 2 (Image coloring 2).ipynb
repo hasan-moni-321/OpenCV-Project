{
 "cells": [
  {
   "cell_type": "code",
   "execution_count": 17,
   "metadata": {},
   "outputs": [],
   "source": [
    "import numpy as np\n",
    "import cv2 as cv"
   ]
  },
  {
   "cell_type": "code",
   "execution_count": 22,
   "metadata": {},
   "outputs": [
    {
     "data": {
      "text/plain": [
       "-1"
      ]
     },
     "execution_count": 22,
     "metadata": {},
     "output_type": "execute_result"
    }
   ],
   "source": [
    "kernel = np.ones((5,5), np.uint8)\n",
    "\n",
    "img = cv.imread('/home/hasan/Downloads/whale.jpg')\n",
    "\n",
    "\n",
    "img_canny = cv.Canny(img, 100,100)\n",
    "img_dialation = cv.dilate(img_canny, kernel, iterations=1)\n",
    "img_eroded = cv.erode(img_dialation, kernel, iterations=1)#opposite of dialation image\n",
    "\n",
    "cv.imshow('original image', img)\n",
    "cv.imshow('image_canny', img_canny)\n",
    "cv.imshow('image_dilate', img_dialation)\n",
    "cv.imshow('image_erode', img_eroded)\n",
    "cv.waitKey(5000)"
   ]
  },
  {
   "cell_type": "code",
   "execution_count": null,
   "metadata": {},
   "outputs": [],
   "source": []
  }
 ],
 "metadata": {
  "kernelspec": {
   "display_name": "Python 3",
   "language": "python",
   "name": "python3"
  },
  "language_info": {
   "codemirror_mode": {
    "name": "ipython",
    "version": 3
   },
   "file_extension": ".py",
   "mimetype": "text/x-python",
   "name": "python",
   "nbconvert_exporter": "python",
   "pygments_lexer": "ipython3",
   "version": "3.7.5"
  }
 },
 "nbformat": 4,
 "nbformat_minor": 2
}
